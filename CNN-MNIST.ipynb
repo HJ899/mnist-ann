{
 "cells": [
  {
   "cell_type": "code",
   "execution_count": 1,
   "metadata": {
    "colab": {
     "base_uri": "https://localhost:8080/",
     "height": 34
    },
    "colab_type": "code",
    "id": "TIg-mDColHQ8",
    "outputId": "387232a0-2435-437b-9eb3-7e9451d8e003"
   },
   "outputs": [
    {
     "name": "stderr",
     "output_type": "stream",
     "text": [
      "Using TensorFlow backend.\n"
     ]
    }
   ],
   "source": [
    "import pandas as pd\n",
    "from keras.layers import Conv2D, MaxPool2D, Flatten, Dense, Dropout\n",
    "from keras.models import Sequential\n",
    "from keras.utils import np_utils\n",
    "import numpy as np\n",
    "from sklearn.model_selection import train_test_split"
   ]
  },
  {
   "cell_type": "code",
   "execution_count": 2,
   "metadata": {
    "colab": {
     "base_uri": "https://localhost:8080/",
     "height": 391
    },
    "colab_type": "code",
    "id": "Pva9u9oB23UA",
    "outputId": "f092acf9-1027-48e7-85b2-2755268c71ee"
   },
   "outputs": [
    {
     "name": "stdout",
     "output_type": "stream",
     "text": [
      "--2019-01-30 13:24:53--  https://pjreddie.com/media/files/mnist_train.csv\n",
      "Resolving pjreddie.com (pjreddie.com)... 128.208.3.39\n",
      "Connecting to pjreddie.com (pjreddie.com)|128.208.3.39|:443... connected.\n",
      "HTTP request sent, awaiting response... 200 OK\n",
      "Length: 109575994 (104M) [application/octet-stream]\n",
      "Saving to: ‘mnist_train.csv’\n",
      "\n",
      "mnist_train.csv     100%[===================>] 104.50M  22.1MB/s    in 5.4s    \n",
      "\n",
      "2019-01-30 13:25:00 (19.3 MB/s) - ‘mnist_train.csv’ saved [109575994/109575994]\n",
      "\n",
      "--2019-01-30 13:25:01--  https://pjreddie.com/media/files/mnist_test.csv\n",
      "Resolving pjreddie.com (pjreddie.com)... 128.208.3.39\n",
      "Connecting to pjreddie.com (pjreddie.com)|128.208.3.39|:443... connected.\n",
      "HTTP request sent, awaiting response... 200 OK\n",
      "Length: 18289443 (17M) [application/octet-stream]\n",
      "Saving to: ‘mnist_test.csv’\n",
      "\n",
      "mnist_test.csv      100%[===================>]  17.44M  11.9MB/s    in 1.5s    \n",
      "\n",
      "2019-01-30 13:25:03 (11.9 MB/s) - ‘mnist_test.csv’ saved [18289443/18289443]\n",
      "\n"
     ]
    }
   ],
   "source": [
    "!wget 'https://pjreddie.com/media/files/mnist_train.csv'\n",
    "!wget 'https://pjreddie.com/media/files/mnist_test.csv'"
   ]
  },
  {
   "cell_type": "code",
   "execution_count": 3,
   "metadata": {
    "colab": {
     "base_uri": "https://localhost:8080/",
     "height": 34
    },
    "colab_type": "code",
    "id": "fNXQj605lSMr",
    "outputId": "73b0e6b7-18c8-4200-8ee1-0a81c4ed2225"
   },
   "outputs": [
    {
     "data": {
      "text/plain": [
       "((59999, 785), (9999, 785))"
      ]
     },
     "execution_count": 3,
     "metadata": {
      "tags": []
     },
     "output_type": "execute_result"
    }
   ],
   "source": [
    "df_train = pd.read_csv('./mnist_train.csv')\n",
    "df_test = pd.read_csv('./mnist_test.csv')\n",
    "df_train.shape, df_test.shape"
   ]
  },
  {
   "cell_type": "code",
   "execution_count": 0,
   "metadata": {
    "colab": {},
    "colab_type": "code",
    "id": "-7bblSNIlX_-"
   },
   "outputs": [],
   "source": [
    "data_train = np.array(df_train)\n",
    "data_test = np.array(df_test)"
   ]
  },
  {
   "cell_type": "code",
   "execution_count": 0,
   "metadata": {
    "colab": {},
    "colab_type": "code",
    "id": "JQpetC_LlZiQ"
   },
   "outputs": [],
   "source": [
    "X_train = data_train[:,1:]/255.0\n",
    "Y_train = data_train[:,0]\n",
    "X_test = data_test[:,1:]/255.0\n",
    "Y_test = data_test[:,0]"
   ]
  },
  {
   "cell_type": "code",
   "execution_count": 0,
   "metadata": {
    "colab": {},
    "colab_type": "code",
    "id": "bC9eNBdjmQJH"
   },
   "outputs": [],
   "source": [
    "Y_train_ = np_utils.to_categorical(Y_train)"
   ]
  },
  {
   "cell_type": "code",
   "execution_count": 0,
   "metadata": {
    "colab": {},
    "colab_type": "code",
    "id": "YhUzgThbmcjE"
   },
   "outputs": [],
   "source": [
    "model2 = Sequential()\n",
    "model2.add(Conv2D(32, (3,3), activation='relu', input_shape = [28,28,1]))\n",
    "model2.add(Conv2D(64, (3,3), activation='relu'))\n",
    "model2.add(MaxPool2D((2,2)))\n",
    "model2.add(Dropout(0.25))\n",
    "model2.add(Flatten())\n",
    "model2.add(Dense(1024, activation = 'relu'))\n",
    "model2.add(Dense(128, activation='relu'))\n",
    "model2.add(Dropout(0.5))\n",
    "model2.add(Dense(10, activation='softmax'))"
   ]
  },
  {
   "cell_type": "code",
   "execution_count": 8,
   "metadata": {
    "colab": {
     "base_uri": "https://localhost:8080/",
     "height": 442
    },
    "colab_type": "code",
    "id": "L73q73v9mr9J",
    "outputId": "6932caa4-f755-46a4-cde9-a5a56c8b989f"
   },
   "outputs": [
    {
     "name": "stdout",
     "output_type": "stream",
     "text": [
      "_________________________________________________________________\n",
      "Layer (type)                 Output Shape              Param #   \n",
      "=================================================================\n",
      "conv2d_1 (Conv2D)            (None, 26, 26, 32)        320       \n",
      "_________________________________________________________________\n",
      "conv2d_2 (Conv2D)            (None, 24, 24, 64)        18496     \n",
      "_________________________________________________________________\n",
      "max_pooling2d_1 (MaxPooling2 (None, 12, 12, 64)        0         \n",
      "_________________________________________________________________\n",
      "dropout_1 (Dropout)          (None, 12, 12, 64)        0         \n",
      "_________________________________________________________________\n",
      "flatten_1 (Flatten)          (None, 9216)              0         \n",
      "_________________________________________________________________\n",
      "dense_1 (Dense)              (None, 1024)              9438208   \n",
      "_________________________________________________________________\n",
      "dense_2 (Dense)              (None, 128)               131200    \n",
      "_________________________________________________________________\n",
      "dropout_2 (Dropout)          (None, 128)               0         \n",
      "_________________________________________________________________\n",
      "dense_3 (Dense)              (None, 10)                1290      \n",
      "=================================================================\n",
      "Total params: 9,589,514\n",
      "Trainable params: 9,589,514\n",
      "Non-trainable params: 0\n",
      "_________________________________________________________________\n"
     ]
    }
   ],
   "source": [
    "model2.compile(optimizer='adam', loss='categorical_crossentropy',metrics=['accuracy'])\n",
    "model2.summary()"
   ]
  },
  {
   "cell_type": "code",
   "execution_count": 9,
   "metadata": {
    "colab": {
     "base_uri": "https://localhost:8080/",
     "height": 714
    },
    "colab_type": "code",
    "id": "8fRgYDbrm1rc",
    "outputId": "ebd9531d-ec94-48da-80d9-526acb7655f4"
   },
   "outputs": [
    {
     "name": "stdout",
     "output_type": "stream",
     "text": [
      "Epoch 1/20\n",
      "59999/59999 [==============================] - 13s 221us/step - loss: 0.2325 - acc: 0.9288\n",
      "Epoch 2/20\n",
      "59999/59999 [==============================] - 11s 188us/step - loss: 0.0649 - acc: 0.9816\n",
      "Epoch 3/20\n",
      "59999/59999 [==============================] - 11s 189us/step - loss: 0.0386 - acc: 0.9888\n",
      "Epoch 4/20\n",
      "59999/59999 [==============================] - 11s 190us/step - loss: 0.0281 - acc: 0.9917\n",
      "Epoch 5/20\n",
      "59999/59999 [==============================] - 11s 189us/step - loss: 0.0218 - acc: 0.9934\n",
      "Epoch 6/20\n",
      "59999/59999 [==============================] - 11s 189us/step - loss: 0.0167 - acc: 0.9949\n",
      "Epoch 7/20\n",
      "59999/59999 [==============================] - 11s 190us/step - loss: 0.0133 - acc: 0.9958\n",
      "Epoch 8/20\n",
      "59999/59999 [==============================] - 11s 188us/step - loss: 0.0122 - acc: 0.9963\n",
      "Epoch 9/20\n",
      "59999/59999 [==============================] - 11s 189us/step - loss: 0.0090 - acc: 0.9973\n",
      "Epoch 10/20\n",
      "59999/59999 [==============================] - 11s 190us/step - loss: 0.0103 - acc: 0.9969\n",
      "Epoch 11/20\n",
      "59999/59999 [==============================] - 11s 189us/step - loss: 0.0076 - acc: 0.9976\n",
      "Epoch 12/20\n",
      "59999/59999 [==============================] - 11s 190us/step - loss: 0.0049 - acc: 0.9985\n",
      "Epoch 13/20\n",
      "59999/59999 [==============================] - 11s 188us/step - loss: 0.0090 - acc: 0.9974\n",
      "Epoch 14/20\n",
      "59999/59999 [==============================] - 11s 191us/step - loss: 0.0069 - acc: 0.9978\n",
      "Epoch 15/20\n",
      "59999/59999 [==============================] - 11s 190us/step - loss: 0.0062 - acc: 0.9983\n",
      "Epoch 16/20\n",
      "59999/59999 [==============================] - 11s 189us/step - loss: 0.0050 - acc: 0.9985\n",
      "Epoch 17/20\n",
      "59999/59999 [==============================] - 11s 190us/step - loss: 0.0048 - acc: 0.9986\n",
      "Epoch 18/20\n",
      "59999/59999 [==============================] - 11s 189us/step - loss: 0.0043 - acc: 0.9986\n",
      "Epoch 19/20\n",
      "59999/59999 [==============================] - 11s 191us/step - loss: 0.0057 - acc: 0.9982\n",
      "Epoch 20/20\n",
      "59999/59999 [==============================] - 11s 190us/step - loss: 0.0049 - acc: 0.9986\n"
     ]
    },
    {
     "data": {
      "text/plain": [
       "<keras.callbacks.History at 0x7f787a076358>"
      ]
     },
     "execution_count": 9,
     "metadata": {
      "tags": []
     },
     "output_type": "execute_result"
    }
   ],
   "source": [
    "X_train_ = X_train.reshape((-1,28,28,1))\n",
    "X_test_ = X_test.reshape((-1,28,28,1))\n",
    "model2.fit(X_train_, Y_train_, epochs=20, batch_size=256)"
   ]
  },
  {
   "cell_type": "code",
   "execution_count": 0,
   "metadata": {
    "colab": {},
    "colab_type": "code",
    "id": "SMOEigTTymjg"
   },
   "outputs": [],
   "source": [
    "Y_test_preds = model2.predict_classes(X_test_)"
   ]
  },
  {
   "cell_type": "code",
   "execution_count": 0,
   "metadata": {
    "colab": {},
    "colab_type": "code",
    "id": "zB4a9Nv659V8"
   },
   "outputs": [],
   "source": [
    "acc2 = np.mean(Y_test_preds == Y_test)*100"
   ]
  },
  {
   "cell_type": "code",
   "execution_count": 12,
   "metadata": {
    "colab": {
     "base_uri": "https://localhost:8080/",
     "height": 34
    },
    "colab_type": "code",
    "id": "3kpwOL4H7O3M",
    "outputId": "537cd500-ed93-4095-c31f-b51f01806dd2"
   },
   "outputs": [
    {
     "name": "stdout",
     "output_type": "stream",
     "text": [
      "Accuracy: 99.09\n"
     ]
    }
   ],
   "source": [
    "print(\"Accuracy: %.2f\"%(acc2))"
   ]
  }
 ],
 "metadata": {
  "accelerator": "GPU",
  "colab": {
   "collapsed_sections": [],
   "name": "Untitled1.ipynb",
   "provenance": [],
   "version": "0.3.2"
  },
  "kernelspec": {
   "display_name": "Python 3",
   "language": "python",
   "name": "python3"
  },
  "language_info": {
   "codemirror_mode": {
    "name": "ipython",
    "version": 3
   },
   "file_extension": ".py",
   "mimetype": "text/x-python",
   "name": "python",
   "nbconvert_exporter": "python",
   "pygments_lexer": "ipython3",
   "version": "3.6.5"
  }
 },
 "nbformat": 4,
 "nbformat_minor": 1
}
