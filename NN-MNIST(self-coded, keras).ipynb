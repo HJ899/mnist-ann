{
 "cells": [
  {
   "cell_type": "markdown",
   "metadata": {},
   "source": [
    "## Self Coded NN"
   ]
  },
  {
   "cell_type": "code",
   "execution_count": 1,
   "metadata": {},
   "outputs": [],
   "source": [
    "import numpy as np\n",
    "from sklearn.preprocessing import LabelEncoder\n",
    "from sklearn.model_selection import train_test_split\n",
    "import matplotlib.pyplot as plt\n",
    "import pandas as pd "
   ]
  },
  {
   "cell_type": "code",
   "execution_count": 2,
   "metadata": {},
   "outputs": [],
   "source": [
    "class NeuralNet:\n",
    "    \n",
    "    def __init__(self, input_size, layers, output_size):\n",
    "        np.random.seed(0)\n",
    "        self.le = LabelEncoder()\n",
    "        \n",
    "        model = {}\n",
    "        \n",
    "        #First Layer\n",
    "        model['W1'] = np.random.randn(input_size, layers[0])\n",
    "        model['b1'] = np.zeros((1,layers[0]))\n",
    "        \n",
    "        #Second Layer\n",
    "        model['W2'] = np.random.randn(layers[0], layers[1])\n",
    "        model['b2'] = np.zeros((1,layers[1]))\n",
    "        \n",
    "        #Third Layer\n",
    "        model['W3'] = np.random.randn(layers[1], output_size)\n",
    "        model['b3'] = np.zeros((1,output_size))\n",
    "        \n",
    "        self.model = model\n",
    "        \n",
    "    def softmax(self, a):\n",
    "        hx = np.exp(a)\n",
    "        ans = hx/np.sum(hx, axis=1, keepdims=True)\n",
    "        return ans\n",
    "    \n",
    "    def sigmoid(self, x):\n",
    "        return 1/(1+np.exp(-x))\n",
    "    \n",
    "    def forward(self, x):\n",
    "        z1 = np.dot(x, self.model['W1']) + self.model['b1']\n",
    "        a1 = self.sigmoid(z1)\n",
    "        \n",
    "        z2 = np.dot(a1, self.model['W2']) + self.model['b2']\n",
    "        a2 = self.sigmoid(z2)\n",
    "        \n",
    "        z3 = np.dot(a2, self.model['W3']) + self.model['b3']\n",
    "        y_ = self.softmax(z3)\n",
    "        \n",
    "        self.activations = (a1, a2, y_)\n",
    "        return y_\n",
    "        \n",
    "    def back_prop(self, x, y, learning_rate = 0.002):\n",
    "        \n",
    "        m = x.shape[0]\n",
    "        a1,a2,y_ = self.activations\n",
    "        \n",
    "        delta3 = y_ - y \n",
    "        dw3 = np.dot(a2.T, delta3)\n",
    "        db3 = np.sum(delta3, axis=0)/float(m)\n",
    "        \n",
    "        delta2 = a2*(1-a2)*np.dot(delta3, self.model['W3'].T)\n",
    "        dw2 = np.dot(a1.T, delta2)\n",
    "        db2 = np.sum(delta2, axis = 0)/float(m)\n",
    "        \n",
    "        delta1 = a1*(1-a1)*np.dot(delta2, self.model['W2'].T)\n",
    "        dw1 = np.dot(x.T, delta1)\n",
    "        db1 = np.sum(delta1, axis = 0)/float(m)\n",
    "        \n",
    "        #Update model params\n",
    "        \n",
    "        self.model['W1'] -= learning_rate*dw1\n",
    "        self.model['b1'] -= learning_rate*db1\n",
    "        self.model['W2'] -= learning_rate*dw2\n",
    "        self.model['b2'] -= learning_rate*db2\n",
    "        self.model['W3'] -= learning_rate*dw3\n",
    "        self.model['b3'] -= learning_rate*db3\n",
    "        \n",
    "    def predict(self, x):\n",
    "        y_out = self.forward(x)\n",
    "        y = np.argmax(y_out, axis=1)\n",
    "        return self.le.inverse_transform(y)\n",
    "        \n",
    "    def one_hot(self, y, depth):\n",
    "        m = y.shape[0]\n",
    "        y_oht = np.zeros((m, depth))\n",
    "        y_oht[np.arange(m), y] = 1\n",
    "        return y_oht\n",
    "        \n",
    "    def summary(self):\n",
    "        print(\"W1\", self.model['W1'].shape)\n",
    "        \n",
    "        print(\"W2\", self.model['W2'].shape)\n",
    "        \n",
    "        print(\"W3\", self.model['W3'].shape)\n",
    "        \n",
    "    def loss(self, y_oht, p):\n",
    "        return -np.sum(y_oht*np.log(p))/y_oht.shape[0]\n",
    "        \n",
    "    def train(self, X, Y, batch_size = 64, num_epochs = 50 ,learning_rate = 0.003, logs = True):\n",
    "        training_loss = []\n",
    "        accuracy = []\n",
    "        Y_ = self.le.fit_transform(Y)\n",
    "        Y_OHT = self.one_hot(Y_, self.le.classes_.shape[0])\n",
    "        \n",
    "        indices = np.arange(0, X.shape[0], batch_size)\n",
    "        \n",
    "        for _ in range(num_epochs):\n",
    "            np.random.shuffle(indices)\n",
    "            for j in range(indices.shape[0]):\n",
    "                x_batch = X[indices[j]:min(indices[j]+batch_size, X.shape[0])]\n",
    "                y_batch = Y_OHT[indices[j]:min(indices[j]+batch_size, X.shape[0])]\n",
    "                Y_ = self.forward(x_batch)\n",
    "                self.back_prop(x_batch, y_batch, learning_rate)\n",
    "            l = self.loss(Y_OHT, self.forward(X))\n",
    "            training_loss.append(l)\n",
    "            Y_preds = self.predict(X)\n",
    "            acc = np.mean(Y_preds == Y)\n",
    "            accuracy.append(acc)\n",
    "            if(logs):\n",
    "                print(\"Epoch %d - Loss %0.3f, Accuracy %0.3f\"%(_+1, l, acc))\n",
    "        return training_loss, accuracy\n",
    "        "
   ]
  },
  {
   "cell_type": "code",
   "execution_count": 3,
   "metadata": {},
   "outputs": [
    {
     "data": {
      "text/plain": [
       "((59999, 785), (9999, 785))"
      ]
     },
     "execution_count": 3,
     "metadata": {},
     "output_type": "execute_result"
    }
   ],
   "source": [
    "df_train = pd.read_csv('./mnist_train.csv')\n",
    "df_test = pd.read_csv('./mnist_test.csv')\n",
    "df_train.shape, df_test.shape"
   ]
  },
  {
   "cell_type": "code",
   "execution_count": 4,
   "metadata": {},
   "outputs": [],
   "source": [
    "data_train = np.array(df_train)\n",
    "data_test = np.array(df_test)"
   ]
  },
  {
   "cell_type": "code",
   "execution_count": 5,
   "metadata": {},
   "outputs": [],
   "source": [
    "X_train = data_train[:,1:]/255.0\n",
    "Y_train = data_train[:,0]\n",
    "X_test = data_test[:,1:]/255.0\n",
    "Y_test = data_test[:,0]"
   ]
  },
  {
   "cell_type": "code",
   "execution_count": 6,
   "metadata": {},
   "outputs": [],
   "source": [
    "nn = NeuralNet(X_test.shape[1], [256, 64], 10)"
   ]
  },
  {
   "cell_type": "code",
   "execution_count": 7,
   "metadata": {},
   "outputs": [
    {
     "name": "stdout",
     "output_type": "stream",
     "text": [
      "W1 (784, 256)\n",
      "W2 (256, 64)\n",
      "W3 (64, 10)\n"
     ]
    }
   ],
   "source": [
    "nn.summary()"
   ]
  },
  {
   "cell_type": "code",
   "execution_count": 8,
   "metadata": {},
   "outputs": [
    {
     "name": "stderr",
     "output_type": "stream",
     "text": [
      "/Users/hardik/Virtualenvs/mlcb/lib/python3.6/site-packages/sklearn/preprocessing/label.py:151: DeprecationWarning: The truth value of an empty array is ambiguous. Returning False, but in future this will result in an error. Use `array.size > 0` to check that an array is not empty.\n",
      "  if diff:\n"
     ]
    },
    {
     "name": "stdout",
     "output_type": "stream",
     "text": [
      "Epoch 1 - Loss 0.641, Accuracy 0.797\n"
     ]
    },
    {
     "name": "stderr",
     "output_type": "stream",
     "text": [
      "/Users/hardik/Virtualenvs/mlcb/lib/python3.6/site-packages/sklearn/preprocessing/label.py:151: DeprecationWarning: The truth value of an empty array is ambiguous. Returning False, but in future this will result in an error. Use `array.size > 0` to check that an array is not empty.\n",
      "  if diff:\n"
     ]
    },
    {
     "name": "stdout",
     "output_type": "stream",
     "text": [
      "Epoch 2 - Loss 0.483, Accuracy 0.849\n"
     ]
    },
    {
     "name": "stderr",
     "output_type": "stream",
     "text": [
      "/Users/hardik/Virtualenvs/mlcb/lib/python3.6/site-packages/sklearn/preprocessing/label.py:151: DeprecationWarning: The truth value of an empty array is ambiguous. Returning False, but in future this will result in an error. Use `array.size > 0` to check that an array is not empty.\n",
      "  if diff:\n"
     ]
    },
    {
     "name": "stdout",
     "output_type": "stream",
     "text": [
      "Epoch 3 - Loss 0.409, Accuracy 0.874\n"
     ]
    },
    {
     "name": "stderr",
     "output_type": "stream",
     "text": [
      "/Users/hardik/Virtualenvs/mlcb/lib/python3.6/site-packages/sklearn/preprocessing/label.py:151: DeprecationWarning: The truth value of an empty array is ambiguous. Returning False, but in future this will result in an error. Use `array.size > 0` to check that an array is not empty.\n",
      "  if diff:\n"
     ]
    },
    {
     "name": "stdout",
     "output_type": "stream",
     "text": [
      "Epoch 4 - Loss 0.361, Accuracy 0.889\n"
     ]
    },
    {
     "name": "stderr",
     "output_type": "stream",
     "text": [
      "/Users/hardik/Virtualenvs/mlcb/lib/python3.6/site-packages/sklearn/preprocessing/label.py:151: DeprecationWarning: The truth value of an empty array is ambiguous. Returning False, but in future this will result in an error. Use `array.size > 0` to check that an array is not empty.\n",
      "  if diff:\n"
     ]
    },
    {
     "name": "stdout",
     "output_type": "stream",
     "text": [
      "Epoch 5 - Loss 0.315, Accuracy 0.904\n"
     ]
    },
    {
     "name": "stderr",
     "output_type": "stream",
     "text": [
      "/Users/hardik/Virtualenvs/mlcb/lib/python3.6/site-packages/sklearn/preprocessing/label.py:151: DeprecationWarning: The truth value of an empty array is ambiguous. Returning False, but in future this will result in an error. Use `array.size > 0` to check that an array is not empty.\n",
      "  if diff:\n"
     ]
    },
    {
     "name": "stdout",
     "output_type": "stream",
     "text": [
      "Epoch 6 - Loss 0.290, Accuracy 0.912\n"
     ]
    },
    {
     "name": "stderr",
     "output_type": "stream",
     "text": [
      "/Users/hardik/Virtualenvs/mlcb/lib/python3.6/site-packages/sklearn/preprocessing/label.py:151: DeprecationWarning: The truth value of an empty array is ambiguous. Returning False, but in future this will result in an error. Use `array.size > 0` to check that an array is not empty.\n",
      "  if diff:\n"
     ]
    },
    {
     "name": "stdout",
     "output_type": "stream",
     "text": [
      "Epoch 7 - Loss 0.275, Accuracy 0.917\n"
     ]
    },
    {
     "name": "stderr",
     "output_type": "stream",
     "text": [
      "/Users/hardik/Virtualenvs/mlcb/lib/python3.6/site-packages/sklearn/preprocessing/label.py:151: DeprecationWarning: The truth value of an empty array is ambiguous. Returning False, but in future this will result in an error. Use `array.size > 0` to check that an array is not empty.\n",
      "  if diff:\n"
     ]
    },
    {
     "name": "stdout",
     "output_type": "stream",
     "text": [
      "Epoch 8 - Loss 0.255, Accuracy 0.924\n"
     ]
    },
    {
     "name": "stderr",
     "output_type": "stream",
     "text": [
      "/Users/hardik/Virtualenvs/mlcb/lib/python3.6/site-packages/sklearn/preprocessing/label.py:151: DeprecationWarning: The truth value of an empty array is ambiguous. Returning False, but in future this will result in an error. Use `array.size > 0` to check that an array is not empty.\n",
      "  if diff:\n"
     ]
    },
    {
     "name": "stdout",
     "output_type": "stream",
     "text": [
      "Epoch 9 - Loss 0.234, Accuracy 0.931\n"
     ]
    },
    {
     "name": "stderr",
     "output_type": "stream",
     "text": [
      "/Users/hardik/Virtualenvs/mlcb/lib/python3.6/site-packages/sklearn/preprocessing/label.py:151: DeprecationWarning: The truth value of an empty array is ambiguous. Returning False, but in future this will result in an error. Use `array.size > 0` to check that an array is not empty.\n",
      "  if diff:\n"
     ]
    },
    {
     "name": "stdout",
     "output_type": "stream",
     "text": [
      "Epoch 10 - Loss 0.223, Accuracy 0.935\n"
     ]
    },
    {
     "name": "stderr",
     "output_type": "stream",
     "text": [
      "/Users/hardik/Virtualenvs/mlcb/lib/python3.6/site-packages/sklearn/preprocessing/label.py:151: DeprecationWarning: The truth value of an empty array is ambiguous. Returning False, but in future this will result in an error. Use `array.size > 0` to check that an array is not empty.\n",
      "  if diff:\n"
     ]
    },
    {
     "name": "stdout",
     "output_type": "stream",
     "text": [
      "Epoch 11 - Loss 0.210, Accuracy 0.939\n"
     ]
    },
    {
     "name": "stderr",
     "output_type": "stream",
     "text": [
      "/Users/hardik/Virtualenvs/mlcb/lib/python3.6/site-packages/sklearn/preprocessing/label.py:151: DeprecationWarning: The truth value of an empty array is ambiguous. Returning False, but in future this will result in an error. Use `array.size > 0` to check that an array is not empty.\n",
      "  if diff:\n"
     ]
    },
    {
     "name": "stdout",
     "output_type": "stream",
     "text": [
      "Epoch 12 - Loss 0.198, Accuracy 0.944\n"
     ]
    },
    {
     "name": "stderr",
     "output_type": "stream",
     "text": [
      "/Users/hardik/Virtualenvs/mlcb/lib/python3.6/site-packages/sklearn/preprocessing/label.py:151: DeprecationWarning: The truth value of an empty array is ambiguous. Returning False, but in future this will result in an error. Use `array.size > 0` to check that an array is not empty.\n",
      "  if diff:\n"
     ]
    },
    {
     "name": "stdout",
     "output_type": "stream",
     "text": [
      "Epoch 13 - Loss 0.193, Accuracy 0.943\n"
     ]
    },
    {
     "name": "stderr",
     "output_type": "stream",
     "text": [
      "/Users/hardik/Virtualenvs/mlcb/lib/python3.6/site-packages/sklearn/preprocessing/label.py:151: DeprecationWarning: The truth value of an empty array is ambiguous. Returning False, but in future this will result in an error. Use `array.size > 0` to check that an array is not empty.\n",
      "  if diff:\n"
     ]
    },
    {
     "name": "stdout",
     "output_type": "stream",
     "text": [
      "Epoch 14 - Loss 0.180, Accuracy 0.948\n"
     ]
    },
    {
     "name": "stderr",
     "output_type": "stream",
     "text": [
      "/Users/hardik/Virtualenvs/mlcb/lib/python3.6/site-packages/sklearn/preprocessing/label.py:151: DeprecationWarning: The truth value of an empty array is ambiguous. Returning False, but in future this will result in an error. Use `array.size > 0` to check that an array is not empty.\n",
      "  if diff:\n"
     ]
    },
    {
     "name": "stdout",
     "output_type": "stream",
     "text": [
      "Epoch 15 - Loss 0.171, Accuracy 0.951\n"
     ]
    },
    {
     "name": "stderr",
     "output_type": "stream",
     "text": [
      "/Users/hardik/Virtualenvs/mlcb/lib/python3.6/site-packages/sklearn/preprocessing/label.py:151: DeprecationWarning: The truth value of an empty array is ambiguous. Returning False, but in future this will result in an error. Use `array.size > 0` to check that an array is not empty.\n",
      "  if diff:\n"
     ]
    },
    {
     "name": "stdout",
     "output_type": "stream",
     "text": [
      "Epoch 16 - Loss 0.165, Accuracy 0.954\n"
     ]
    },
    {
     "name": "stderr",
     "output_type": "stream",
     "text": [
      "/Users/hardik/Virtualenvs/mlcb/lib/python3.6/site-packages/sklearn/preprocessing/label.py:151: DeprecationWarning: The truth value of an empty array is ambiguous. Returning False, but in future this will result in an error. Use `array.size > 0` to check that an array is not empty.\n",
      "  if diff:\n"
     ]
    },
    {
     "name": "stdout",
     "output_type": "stream",
     "text": [
      "Epoch 17 - Loss 0.159, Accuracy 0.955\n"
     ]
    },
    {
     "name": "stderr",
     "output_type": "stream",
     "text": [
      "/Users/hardik/Virtualenvs/mlcb/lib/python3.6/site-packages/sklearn/preprocessing/label.py:151: DeprecationWarning: The truth value of an empty array is ambiguous. Returning False, but in future this will result in an error. Use `array.size > 0` to check that an array is not empty.\n",
      "  if diff:\n"
     ]
    },
    {
     "name": "stdout",
     "output_type": "stream",
     "text": [
      "Epoch 18 - Loss 0.150, Accuracy 0.958\n"
     ]
    },
    {
     "name": "stderr",
     "output_type": "stream",
     "text": [
      "/Users/hardik/Virtualenvs/mlcb/lib/python3.6/site-packages/sklearn/preprocessing/label.py:151: DeprecationWarning: The truth value of an empty array is ambiguous. Returning False, but in future this will result in an error. Use `array.size > 0` to check that an array is not empty.\n",
      "  if diff:\n"
     ]
    },
    {
     "name": "stdout",
     "output_type": "stream",
     "text": [
      "Epoch 19 - Loss 0.145, Accuracy 0.959\n"
     ]
    },
    {
     "name": "stderr",
     "output_type": "stream",
     "text": [
      "/Users/hardik/Virtualenvs/mlcb/lib/python3.6/site-packages/sklearn/preprocessing/label.py:151: DeprecationWarning: The truth value of an empty array is ambiguous. Returning False, but in future this will result in an error. Use `array.size > 0` to check that an array is not empty.\n",
      "  if diff:\n"
     ]
    },
    {
     "name": "stdout",
     "output_type": "stream",
     "text": [
      "Epoch 20 - Loss 0.138, Accuracy 0.961\n"
     ]
    },
    {
     "name": "stderr",
     "output_type": "stream",
     "text": [
      "/Users/hardik/Virtualenvs/mlcb/lib/python3.6/site-packages/sklearn/preprocessing/label.py:151: DeprecationWarning: The truth value of an empty array is ambiguous. Returning False, but in future this will result in an error. Use `array.size > 0` to check that an array is not empty.\n",
      "  if diff:\n"
     ]
    },
    {
     "name": "stdout",
     "output_type": "stream",
     "text": [
      "Epoch 21 - Loss 0.134, Accuracy 0.963\n"
     ]
    },
    {
     "name": "stderr",
     "output_type": "stream",
     "text": [
      "/Users/hardik/Virtualenvs/mlcb/lib/python3.6/site-packages/sklearn/preprocessing/label.py:151: DeprecationWarning: The truth value of an empty array is ambiguous. Returning False, but in future this will result in an error. Use `array.size > 0` to check that an array is not empty.\n",
      "  if diff:\n"
     ]
    },
    {
     "name": "stdout",
     "output_type": "stream",
     "text": [
      "Epoch 22 - Loss 0.128, Accuracy 0.965\n"
     ]
    },
    {
     "name": "stderr",
     "output_type": "stream",
     "text": [
      "/Users/hardik/Virtualenvs/mlcb/lib/python3.6/site-packages/sklearn/preprocessing/label.py:151: DeprecationWarning: The truth value of an empty array is ambiguous. Returning False, but in future this will result in an error. Use `array.size > 0` to check that an array is not empty.\n",
      "  if diff:\n"
     ]
    },
    {
     "name": "stdout",
     "output_type": "stream",
     "text": [
      "Epoch 23 - Loss 0.123, Accuracy 0.966\n"
     ]
    },
    {
     "name": "stderr",
     "output_type": "stream",
     "text": [
      "/Users/hardik/Virtualenvs/mlcb/lib/python3.6/site-packages/sklearn/preprocessing/label.py:151: DeprecationWarning: The truth value of an empty array is ambiguous. Returning False, but in future this will result in an error. Use `array.size > 0` to check that an array is not empty.\n",
      "  if diff:\n"
     ]
    },
    {
     "name": "stdout",
     "output_type": "stream",
     "text": [
      "Epoch 24 - Loss 0.123, Accuracy 0.966\n"
     ]
    },
    {
     "name": "stderr",
     "output_type": "stream",
     "text": [
      "/Users/hardik/Virtualenvs/mlcb/lib/python3.6/site-packages/sklearn/preprocessing/label.py:151: DeprecationWarning: The truth value of an empty array is ambiguous. Returning False, but in future this will result in an error. Use `array.size > 0` to check that an array is not empty.\n",
      "  if diff:\n"
     ]
    },
    {
     "name": "stdout",
     "output_type": "stream",
     "text": [
      "Epoch 25 - Loss 0.117, Accuracy 0.968\n"
     ]
    },
    {
     "name": "stderr",
     "output_type": "stream",
     "text": [
      "/Users/hardik/Virtualenvs/mlcb/lib/python3.6/site-packages/sklearn/preprocessing/label.py:151: DeprecationWarning: The truth value of an empty array is ambiguous. Returning False, but in future this will result in an error. Use `array.size > 0` to check that an array is not empty.\n",
      "  if diff:\n"
     ]
    },
    {
     "name": "stdout",
     "output_type": "stream",
     "text": [
      "Epoch 26 - Loss 0.111, Accuracy 0.970\n"
     ]
    },
    {
     "name": "stderr",
     "output_type": "stream",
     "text": [
      "/Users/hardik/Virtualenvs/mlcb/lib/python3.6/site-packages/sklearn/preprocessing/label.py:151: DeprecationWarning: The truth value of an empty array is ambiguous. Returning False, but in future this will result in an error. Use `array.size > 0` to check that an array is not empty.\n",
      "  if diff:\n"
     ]
    },
    {
     "name": "stdout",
     "output_type": "stream",
     "text": [
      "Epoch 27 - Loss 0.108, Accuracy 0.971\n"
     ]
    },
    {
     "name": "stderr",
     "output_type": "stream",
     "text": [
      "/Users/hardik/Virtualenvs/mlcb/lib/python3.6/site-packages/sklearn/preprocessing/label.py:151: DeprecationWarning: The truth value of an empty array is ambiguous. Returning False, but in future this will result in an error. Use `array.size > 0` to check that an array is not empty.\n",
      "  if diff:\n"
     ]
    },
    {
     "name": "stdout",
     "output_type": "stream",
     "text": [
      "Epoch 28 - Loss 0.104, Accuracy 0.972\n"
     ]
    },
    {
     "name": "stderr",
     "output_type": "stream",
     "text": [
      "/Users/hardik/Virtualenvs/mlcb/lib/python3.6/site-packages/sklearn/preprocessing/label.py:151: DeprecationWarning: The truth value of an empty array is ambiguous. Returning False, but in future this will result in an error. Use `array.size > 0` to check that an array is not empty.\n",
      "  if diff:\n"
     ]
    },
    {
     "name": "stdout",
     "output_type": "stream",
     "text": [
      "Epoch 29 - Loss 0.098, Accuracy 0.974\n"
     ]
    },
    {
     "name": "stderr",
     "output_type": "stream",
     "text": [
      "/Users/hardik/Virtualenvs/mlcb/lib/python3.6/site-packages/sklearn/preprocessing/label.py:151: DeprecationWarning: The truth value of an empty array is ambiguous. Returning False, but in future this will result in an error. Use `array.size > 0` to check that an array is not empty.\n",
      "  if diff:\n"
     ]
    },
    {
     "name": "stdout",
     "output_type": "stream",
     "text": [
      "Epoch 30 - Loss 0.096, Accuracy 0.975\n"
     ]
    },
    {
     "name": "stderr",
     "output_type": "stream",
     "text": [
      "/Users/hardik/Virtualenvs/mlcb/lib/python3.6/site-packages/sklearn/preprocessing/label.py:151: DeprecationWarning: The truth value of an empty array is ambiguous. Returning False, but in future this will result in an error. Use `array.size > 0` to check that an array is not empty.\n",
      "  if diff:\n"
     ]
    },
    {
     "name": "stdout",
     "output_type": "stream",
     "text": [
      "Epoch 31 - Loss 0.092, Accuracy 0.976\n"
     ]
    },
    {
     "name": "stderr",
     "output_type": "stream",
     "text": [
      "/Users/hardik/Virtualenvs/mlcb/lib/python3.6/site-packages/sklearn/preprocessing/label.py:151: DeprecationWarning: The truth value of an empty array is ambiguous. Returning False, but in future this will result in an error. Use `array.size > 0` to check that an array is not empty.\n",
      "  if diff:\n"
     ]
    },
    {
     "name": "stdout",
     "output_type": "stream",
     "text": [
      "Epoch 32 - Loss 0.089, Accuracy 0.977\n"
     ]
    },
    {
     "name": "stderr",
     "output_type": "stream",
     "text": [
      "/Users/hardik/Virtualenvs/mlcb/lib/python3.6/site-packages/sklearn/preprocessing/label.py:151: DeprecationWarning: The truth value of an empty array is ambiguous. Returning False, but in future this will result in an error. Use `array.size > 0` to check that an array is not empty.\n",
      "  if diff:\n"
     ]
    },
    {
     "name": "stdout",
     "output_type": "stream",
     "text": [
      "Epoch 33 - Loss 0.086, Accuracy 0.977\n"
     ]
    },
    {
     "name": "stderr",
     "output_type": "stream",
     "text": [
      "/Users/hardik/Virtualenvs/mlcb/lib/python3.6/site-packages/sklearn/preprocessing/label.py:151: DeprecationWarning: The truth value of an empty array is ambiguous. Returning False, but in future this will result in an error. Use `array.size > 0` to check that an array is not empty.\n",
      "  if diff:\n"
     ]
    },
    {
     "name": "stdout",
     "output_type": "stream",
     "text": [
      "Epoch 34 - Loss 0.083, Accuracy 0.979\n"
     ]
    },
    {
     "name": "stderr",
     "output_type": "stream",
     "text": [
      "/Users/hardik/Virtualenvs/mlcb/lib/python3.6/site-packages/sklearn/preprocessing/label.py:151: DeprecationWarning: The truth value of an empty array is ambiguous. Returning False, but in future this will result in an error. Use `array.size > 0` to check that an array is not empty.\n",
      "  if diff:\n"
     ]
    },
    {
     "name": "stdout",
     "output_type": "stream",
     "text": [
      "Epoch 35 - Loss 0.080, Accuracy 0.980\n"
     ]
    },
    {
     "name": "stderr",
     "output_type": "stream",
     "text": [
      "/Users/hardik/Virtualenvs/mlcb/lib/python3.6/site-packages/sklearn/preprocessing/label.py:151: DeprecationWarning: The truth value of an empty array is ambiguous. Returning False, but in future this will result in an error. Use `array.size > 0` to check that an array is not empty.\n",
      "  if diff:\n"
     ]
    },
    {
     "name": "stdout",
     "output_type": "stream",
     "text": [
      "Epoch 36 - Loss 0.078, Accuracy 0.980\n"
     ]
    },
    {
     "name": "stderr",
     "output_type": "stream",
     "text": [
      "/Users/hardik/Virtualenvs/mlcb/lib/python3.6/site-packages/sklearn/preprocessing/label.py:151: DeprecationWarning: The truth value of an empty array is ambiguous. Returning False, but in future this will result in an error. Use `array.size > 0` to check that an array is not empty.\n",
      "  if diff:\n"
     ]
    },
    {
     "name": "stdout",
     "output_type": "stream",
     "text": [
      "Epoch 37 - Loss 0.076, Accuracy 0.981\n"
     ]
    },
    {
     "name": "stderr",
     "output_type": "stream",
     "text": [
      "/Users/hardik/Virtualenvs/mlcb/lib/python3.6/site-packages/sklearn/preprocessing/label.py:151: DeprecationWarning: The truth value of an empty array is ambiguous. Returning False, but in future this will result in an error. Use `array.size > 0` to check that an array is not empty.\n",
      "  if diff:\n"
     ]
    },
    {
     "name": "stdout",
     "output_type": "stream",
     "text": [
      "Epoch 38 - Loss 0.074, Accuracy 0.981\n"
     ]
    },
    {
     "name": "stderr",
     "output_type": "stream",
     "text": [
      "/Users/hardik/Virtualenvs/mlcb/lib/python3.6/site-packages/sklearn/preprocessing/label.py:151: DeprecationWarning: The truth value of an empty array is ambiguous. Returning False, but in future this will result in an error. Use `array.size > 0` to check that an array is not empty.\n",
      "  if diff:\n"
     ]
    },
    {
     "name": "stdout",
     "output_type": "stream",
     "text": [
      "Epoch 39 - Loss 0.070, Accuracy 0.983\n"
     ]
    },
    {
     "name": "stderr",
     "output_type": "stream",
     "text": [
      "/Users/hardik/Virtualenvs/mlcb/lib/python3.6/site-packages/sklearn/preprocessing/label.py:151: DeprecationWarning: The truth value of an empty array is ambiguous. Returning False, but in future this will result in an error. Use `array.size > 0` to check that an array is not empty.\n",
      "  if diff:\n"
     ]
    },
    {
     "name": "stdout",
     "output_type": "stream",
     "text": [
      "Epoch 40 - Loss 0.068, Accuracy 0.983\n"
     ]
    },
    {
     "name": "stderr",
     "output_type": "stream",
     "text": [
      "/Users/hardik/Virtualenvs/mlcb/lib/python3.6/site-packages/sklearn/preprocessing/label.py:151: DeprecationWarning: The truth value of an empty array is ambiguous. Returning False, but in future this will result in an error. Use `array.size > 0` to check that an array is not empty.\n",
      "  if diff:\n"
     ]
    },
    {
     "name": "stdout",
     "output_type": "stream",
     "text": [
      "Epoch 41 - Loss 0.066, Accuracy 0.984\n"
     ]
    },
    {
     "name": "stderr",
     "output_type": "stream",
     "text": [
      "/Users/hardik/Virtualenvs/mlcb/lib/python3.6/site-packages/sklearn/preprocessing/label.py:151: DeprecationWarning: The truth value of an empty array is ambiguous. Returning False, but in future this will result in an error. Use `array.size > 0` to check that an array is not empty.\n",
      "  if diff:\n"
     ]
    },
    {
     "name": "stdout",
     "output_type": "stream",
     "text": [
      "Epoch 42 - Loss 0.064, Accuracy 0.985\n"
     ]
    },
    {
     "name": "stderr",
     "output_type": "stream",
     "text": [
      "/Users/hardik/Virtualenvs/mlcb/lib/python3.6/site-packages/sklearn/preprocessing/label.py:151: DeprecationWarning: The truth value of an empty array is ambiguous. Returning False, but in future this will result in an error. Use `array.size > 0` to check that an array is not empty.\n",
      "  if diff:\n"
     ]
    },
    {
     "name": "stdout",
     "output_type": "stream",
     "text": [
      "Epoch 43 - Loss 0.063, Accuracy 0.985\n"
     ]
    },
    {
     "name": "stderr",
     "output_type": "stream",
     "text": [
      "/Users/hardik/Virtualenvs/mlcb/lib/python3.6/site-packages/sklearn/preprocessing/label.py:151: DeprecationWarning: The truth value of an empty array is ambiguous. Returning False, but in future this will result in an error. Use `array.size > 0` to check that an array is not empty.\n",
      "  if diff:\n"
     ]
    },
    {
     "name": "stdout",
     "output_type": "stream",
     "text": [
      "Epoch 44 - Loss 0.061, Accuracy 0.986\n"
     ]
    },
    {
     "name": "stderr",
     "output_type": "stream",
     "text": [
      "/Users/hardik/Virtualenvs/mlcb/lib/python3.6/site-packages/sklearn/preprocessing/label.py:151: DeprecationWarning: The truth value of an empty array is ambiguous. Returning False, but in future this will result in an error. Use `array.size > 0` to check that an array is not empty.\n",
      "  if diff:\n"
     ]
    },
    {
     "name": "stdout",
     "output_type": "stream",
     "text": [
      "Epoch 45 - Loss 0.058, Accuracy 0.986\n"
     ]
    },
    {
     "name": "stderr",
     "output_type": "stream",
     "text": [
      "/Users/hardik/Virtualenvs/mlcb/lib/python3.6/site-packages/sklearn/preprocessing/label.py:151: DeprecationWarning: The truth value of an empty array is ambiguous. Returning False, but in future this will result in an error. Use `array.size > 0` to check that an array is not empty.\n",
      "  if diff:\n"
     ]
    },
    {
     "name": "stdout",
     "output_type": "stream",
     "text": [
      "Epoch 46 - Loss 0.057, Accuracy 0.987\n"
     ]
    },
    {
     "name": "stderr",
     "output_type": "stream",
     "text": [
      "/Users/hardik/Virtualenvs/mlcb/lib/python3.6/site-packages/sklearn/preprocessing/label.py:151: DeprecationWarning: The truth value of an empty array is ambiguous. Returning False, but in future this will result in an error. Use `array.size > 0` to check that an array is not empty.\n",
      "  if diff:\n"
     ]
    },
    {
     "name": "stdout",
     "output_type": "stream",
     "text": [
      "Epoch 47 - Loss 0.055, Accuracy 0.987\n"
     ]
    },
    {
     "name": "stderr",
     "output_type": "stream",
     "text": [
      "/Users/hardik/Virtualenvs/mlcb/lib/python3.6/site-packages/sklearn/preprocessing/label.py:151: DeprecationWarning: The truth value of an empty array is ambiguous. Returning False, but in future this will result in an error. Use `array.size > 0` to check that an array is not empty.\n",
      "  if diff:\n"
     ]
    },
    {
     "name": "stdout",
     "output_type": "stream",
     "text": [
      "Epoch 48 - Loss 0.054, Accuracy 0.988\n"
     ]
    },
    {
     "name": "stderr",
     "output_type": "stream",
     "text": [
      "/Users/hardik/Virtualenvs/mlcb/lib/python3.6/site-packages/sklearn/preprocessing/label.py:151: DeprecationWarning: The truth value of an empty array is ambiguous. Returning False, but in future this will result in an error. Use `array.size > 0` to check that an array is not empty.\n",
      "  if diff:\n"
     ]
    },
    {
     "name": "stdout",
     "output_type": "stream",
     "text": [
      "Epoch 49 - Loss 0.052, Accuracy 0.988\n",
      "Epoch 50 - Loss 0.051, Accuracy 0.989\n"
     ]
    },
    {
     "name": "stderr",
     "output_type": "stream",
     "text": [
      "/Users/hardik/Virtualenvs/mlcb/lib/python3.6/site-packages/sklearn/preprocessing/label.py:151: DeprecationWarning: The truth value of an empty array is ambiguous. Returning False, but in future this will result in an error. Use `array.size > 0` to check that an array is not empty.\n",
      "  if diff:\n"
     ]
    }
   ],
   "source": [
    "training_losses, accuracy = nn.train(X_train, Y_train, batch_size=256)"
   ]
  },
  {
   "cell_type": "code",
   "execution_count": 9,
   "metadata": {},
   "outputs": [
    {
     "name": "stderr",
     "output_type": "stream",
     "text": [
      "/Users/hardik/Virtualenvs/mlcb/lib/python3.6/site-packages/sklearn/preprocessing/label.py:151: DeprecationWarning: The truth value of an empty array is ambiguous. Returning False, but in future this will result in an error. Use `array.size > 0` to check that an array is not empty.\n",
      "  if diff:\n"
     ]
    }
   ],
   "source": [
    "Y_test_preds = nn.predict(X_test)"
   ]
  },
  {
   "cell_type": "code",
   "execution_count": 10,
   "metadata": {},
   "outputs": [
    {
     "name": "stdout",
     "output_type": "stream",
     "text": [
      "Testing Accuracy : 94.15\n"
     ]
    }
   ],
   "source": [
    "print('Testing Accuracy : %0.2f'%(np.mean(Y_test == Y_test_preds)*100))"
   ]
  },
  {
   "cell_type": "code",
   "execution_count": 11,
   "metadata": {},
   "outputs": [
    {
     "data": {
      "image/png": "[encoded data removed]",
      "text/plain": [
       "<Figure size 432x288 with 1 Axes>"
      ]
     },
     "metadata": {},
     "output_type": "display_data"
    }
   ],
   "source": [
    "plt.plot(training_losses)\n",
    "plt.plot(accuracy)\n",
    "plt.show()"
   ]
  },
  {
   "cell_type": "markdown",
   "metadata": {},
   "source": [
    "## Using Keras"
   ]
  },
  {
   "cell_type": "code",
   "execution_count": 12,
   "metadata": {},
   "outputs": [
    {
     "name": "stderr",
     "output_type": "stream",
     "text": [
      "Using TensorFlow backend.\n"
     ]
    }
   ],
   "source": [
    "from keras.models import Sequential\n",
    "from keras.layers import Dense, Dropout\n",
    "from keras.utils import np_utils"
   ]
  },
  {
   "cell_type": "code",
   "execution_count": 13,
   "metadata": {},
   "outputs": [],
   "source": [
    "model = Sequential()\n",
    "model.add(Dense(256, activation='relu', input_shape=(784,)))\n",
    "model.add(Dropout(0.25))\n",
    "model.add(Dense(128, activation='relu'))\n",
    "model.add(Dropout(0.25))\n",
    "model.add(Dense(64, activation='relu'))\n",
    "model.add(Dropout(0.5))\n",
    "model.add(Dense(10, activation='softmax'))"
   ]
  },
  {
   "cell_type": "code",
   "execution_count": 14,
   "metadata": {},
   "outputs": [],
   "source": [
    "model.compile(loss='categorical_crossentropy', optimizer='adam', metrics=['accuracy'])"
   ]
  },
  {
   "cell_type": "code",
   "execution_count": 15,
   "metadata": {},
   "outputs": [
    {
     "name": "stdout",
     "output_type": "stream",
     "text": [
      "_________________________________________________________________\n",
      "Layer (type)                 Output Shape              Param #   \n",
      "=================================================================\n",
      "dense_1 (Dense)              (None, 256)               200960    \n",
      "_________________________________________________________________\n",
      "dropout_1 (Dropout)          (None, 256)               0         \n",
      "_________________________________________________________________\n",
      "dense_2 (Dense)              (None, 128)               32896     \n",
      "_________________________________________________________________\n",
      "dropout_2 (Dropout)          (None, 128)               0         \n",
      "_________________________________________________________________\n",
      "dense_3 (Dense)              (None, 64)                8256      \n",
      "_________________________________________________________________\n",
      "dropout_3 (Dropout)          (None, 64)                0         \n",
      "_________________________________________________________________\n",
      "dense_4 (Dense)              (None, 10)                650       \n",
      "=================================================================\n",
      "Total params: 242,762\n",
      "Trainable params: 242,762\n",
      "Non-trainable params: 0\n",
      "_________________________________________________________________\n"
     ]
    }
   ],
   "source": [
    "model.summary()"
   ]
  },
  {
   "cell_type": "code",
   "execution_count": 16,
   "metadata": {},
   "outputs": [],
   "source": [
    "Y_OHT_train = np_utils.to_categorical(Y_train)"
   ]
  },
  {
   "cell_type": "code",
   "execution_count": 17,
   "metadata": {},
   "outputs": [
    {
     "name": "stdout",
     "output_type": "stream",
     "text": [
      "Epoch 1/50\n",
      "59999/59999 [==============================] - 4s 68us/step - loss: 0.6594 - acc: 0.7952\n",
      "Epoch 2/50\n",
      "59999/59999 [==============================] - 3s 56us/step - loss: 0.2465 - acc: 0.9334\n",
      "Epoch 3/50\n",
      "59999/59999 [==============================] - 3s 53us/step - loss: 0.1804 - acc: 0.9515\n",
      "Epoch 4/50\n",
      "59999/59999 [==============================] - 3s 53us/step - loss: 0.1459 - acc: 0.9614\n",
      "Epoch 5/50\n",
      "59999/59999 [==============================] - 3s 52us/step - loss: 0.1233 - acc: 0.9669\n",
      "Epoch 6/50\n",
      "59999/59999 [==============================] - 3s 53us/step - loss: 0.1097 - acc: 0.9704\n",
      "Epoch 7/50\n",
      "59999/59999 [==============================] - 3s 52us/step - loss: 0.0966 - acc: 0.9740\n",
      "Epoch 8/50\n",
      "59999/59999 [==============================] - 3s 55us/step - loss: 0.0864 - acc: 0.9769\n",
      "Epoch 9/50\n",
      "59999/59999 [==============================] - 3s 52us/step - loss: 0.0788 - acc: 0.9785\n",
      "Epoch 10/50\n",
      "59999/59999 [==============================] - 3s 56us/step - loss: 0.0715 - acc: 0.9805\n",
      "Epoch 11/50\n",
      "59999/59999 [==============================] - 4s 59us/step - loss: 0.0650 - acc: 0.9815\n",
      "Epoch 12/50\n",
      "59999/59999 [==============================] - 3s 53us/step - loss: 0.0613 - acc: 0.9834\n",
      "Epoch 13/50\n",
      "59999/59999 [==============================] - 4s 62us/step - loss: 0.0568 - acc: 0.9843\n",
      "Epoch 14/50\n",
      "59999/59999 [==============================] - 3s 58us/step - loss: 0.0523 - acc: 0.9848\n",
      "Epoch 15/50\n",
      "59999/59999 [==============================] - 4s 59us/step - loss: 0.0524 - acc: 0.9859\n",
      "Epoch 16/50\n",
      "59999/59999 [==============================] - 3s 52us/step - loss: 0.0493 - acc: 0.9860\n",
      "Epoch 17/50\n",
      "59999/59999 [==============================] - 4s 58us/step - loss: 0.0447 - acc: 0.9874\n",
      "Epoch 18/50\n",
      "59999/59999 [==============================] - 3s 53us/step - loss: 0.0441 - acc: 0.9875\n",
      "Epoch 19/50\n",
      "59999/59999 [==============================] - 3s 53us/step - loss: 0.0429 - acc: 0.9874\n",
      "Epoch 20/50\n",
      "59999/59999 [==============================] - 3s 56us/step - loss: 0.0401 - acc: 0.9884\n",
      "Epoch 21/50\n",
      "59999/59999 [==============================] - 3s 54us/step - loss: 0.0390 - acc: 0.9887\n",
      "Epoch 22/50\n",
      "59999/59999 [==============================] - 3s 55us/step - loss: 0.0365 - acc: 0.9895\n",
      "Epoch 23/50\n",
      "59999/59999 [==============================] - 3s 54us/step - loss: 0.0355 - acc: 0.9895\n",
      "Epoch 24/50\n",
      "59999/59999 [==============================] - 3s 54us/step - loss: 0.0328 - acc: 0.9907\n",
      "Epoch 25/50\n",
      "59999/59999 [==============================] - 3s 55us/step - loss: 0.0316 - acc: 0.9914\n",
      "Epoch 26/50\n",
      "59999/59999 [==============================] - 3s 54us/step - loss: 0.0306 - acc: 0.9910\n",
      "Epoch 27/50\n",
      "59999/59999 [==============================] - 4s 60us/step - loss: 0.0308 - acc: 0.9913\n",
      "Epoch 28/50\n",
      "59999/59999 [==============================] - 3s 54us/step - loss: 0.0303 - acc: 0.9916\n",
      "Epoch 29/50\n",
      "59999/59999 [==============================] - 4s 62us/step - loss: 0.0269 - acc: 0.9924\n",
      "Epoch 30/50\n",
      "59999/59999 [==============================] - 3s 57us/step - loss: 0.0280 - acc: 0.9923\n",
      "Epoch 31/50\n",
      "59999/59999 [==============================] - 3s 54us/step - loss: 0.0289 - acc: 0.9917\n",
      "Epoch 32/50\n",
      "59999/59999 [==============================] - 4s 60us/step - loss: 0.0268 - acc: 0.9920\n",
      "Epoch 33/50\n",
      "59999/59999 [==============================] - 3s 56us/step - loss: 0.0248 - acc: 0.9924\n",
      "Epoch 34/50\n",
      "59999/59999 [==============================] - 3s 56us/step - loss: 0.0245 - acc: 0.9930\n",
      "Epoch 35/50\n",
      "59999/59999 [==============================] - 3s 55us/step - loss: 0.0253 - acc: 0.9933\n",
      "Epoch 36/50\n",
      "59999/59999 [==============================] - 3s 56us/step - loss: 0.0242 - acc: 0.9926\n",
      "Epoch 37/50\n",
      "59999/59999 [==============================] - 3s 54us/step - loss: 0.0238 - acc: 0.9933\n",
      "Epoch 38/50\n",
      "59999/59999 [==============================] - 3s 58us/step - loss: 0.0214 - acc: 0.9936\n",
      "Epoch 39/50\n",
      "59999/59999 [==============================] - 4s 62us/step - loss: 0.0212 - acc: 0.9937\n",
      "Epoch 40/50\n",
      "59999/59999 [==============================] - 3s 55us/step - loss: 0.0222 - acc: 0.9937\n",
      "Epoch 41/50\n",
      "59999/59999 [==============================] - 3s 54us/step - loss: 0.0243 - acc: 0.9934\n",
      "Epoch 42/50\n",
      "59999/59999 [==============================] - 4s 59us/step - loss: 0.0250 - acc: 0.9932\n",
      "Epoch 43/50\n",
      "59999/59999 [==============================] - 4s 61us/step - loss: 0.0210 - acc: 0.9938\n",
      "Epoch 44/50\n",
      "59999/59999 [==============================] - 3s 55us/step - loss: 0.0220 - acc: 0.9936\n",
      "Epoch 45/50\n",
      "59999/59999 [==============================] - 3s 57us/step - loss: 0.0185 - acc: 0.9944\n",
      "Epoch 46/50\n",
      "59999/59999 [==============================] - 3s 56us/step - loss: 0.0189 - acc: 0.9944\n",
      "Epoch 47/50\n",
      "59999/59999 [==============================] - 3s 56us/step - loss: 0.0203 - acc: 0.9942\n",
      "Epoch 48/50\n",
      "59999/59999 [==============================] - 3s 56us/step - loss: 0.0191 - acc: 0.9945\n",
      "Epoch 49/50\n",
      "59999/59999 [==============================] - 4s 59us/step - loss: 0.0205 - acc: 0.9936\n",
      "Epoch 50/50\n",
      "59999/59999 [==============================] - 3s 54us/step - loss: 0.0180 - acc: 0.9948\n"
     ]
    }
   ],
   "source": [
    "hist = model.fit(X_train, Y_OHT_train, batch_size=256, epochs=50)"
   ]
  },
  {
   "cell_type": "code",
   "execution_count": 18,
   "metadata": {},
   "outputs": [],
   "source": [
    "y_test_preds = model.predict_classes(X_test)"
   ]
  },
  {
   "cell_type": "code",
   "execution_count": 19,
   "metadata": {},
   "outputs": [
    {
     "name": "stdout",
     "output_type": "stream",
     "text": [
      "Testing Accuracy : 98.31\n"
     ]
    }
   ],
   "source": [
    "print('Testing Accuracy : %0.2f'%(np.mean(Y_test == y_test_preds)*100))"
   ]
  },
  {
   "cell_type": "code",
   "execution_count": 20,
   "metadata": {},
   "outputs": [
    {
     "data": {
      "image/png": "[encoded data removed]",
      "text/plain": [
       "<Figure size 432x288 with 1 Axes>"
      ]
     },
     "metadata": {},
     "output_type": "display_data"
    }
   ],
   "source": [
    "plt.plot(hist.history['loss'])\n",
    "plt.plot(hist.history['acc'])\n",
    "plt.show()"
   ]
  }
 ],
 "metadata": {
  "kernelspec": {
   "display_name": "Python 3",
   "language": "python",
   "name": "python3"
  },
  "language_info": {
   "codemirror_mode": {
    "name": "ipython",
    "version": 3
   },
   "file_extension": ".py",
   "mimetype": "text/x-python",
   "name": "python",
   "nbconvert_exporter": "python",
   "pygments_lexer": "ipython3",
   "version": "3.6.5"
  }
 },
 "nbformat": 4,
 "nbformat_minor": 2
}
